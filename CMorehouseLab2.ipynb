{
  "nbformat": 4,
  "nbformat_minor": 0,
  "metadata": {
    "colab": {
      "name": "CMorehouseLab2.ipynb",
      "provenance": []
    },
    "kernelspec": {
      "name": "python3",
      "display_name": "Python 3"
    }
  },
  "cells": [
    {
      "cell_type": "code",
      "metadata": {
        "id": "mkbaWqDnmnsL",
        "colab_type": "code",
        "colab": {}
      },
      "source": [
        "'''\n",
        "Name: Claire Morehouse\n",
        "Date Created: September 4th, 2020\n",
        "This assignment has two parts. The first part is to write script that asks the user to input\n",
        "a numerical value for temperatuer and then the script and using if statements returns a categorical designation \n",
        "of whether that value is hot, warm, cool or cold. Inputs are integers when the user is prompted to enter value for temperature. Output is a\n",
        "categorical designation for whether that temperature is hot,warm, cool or cold. \n",
        "The second part of the assignment is to create a Chatbot. I used if/else/elif statements to respond back to the user. Inputs are the users' name, \n",
        "yes or no if they are a citizen, yes or no if they are registered to vote, and if they are voting for Biden, Trump or Neither. Outputs are statements\n",
        "telling the user no further questions if they aren't a citizen, sending them to voter registration link if they aren't registered to vote, and \n",
        "depending on who the user says they're voting for, asking them to Donate to Biden (voting for Biden), Consider voting for Biden (Neither candidate),\n",
        "or to read an article about why Trump is a bad president (Voting for Trump). \n",
        "'''\n"
      ],
      "execution_count": null,
      "outputs": []
    },
    {
      "cell_type": "code",
      "metadata": {
        "id": "uiBPNsnezAEI",
        "colab_type": "code",
        "colab": {
          "base_uri": "https://localhost:8080/",
          "height": 51
        },
        "outputId": "4814767f-189f-4b1d-b22c-8734d84b1749"
      },
      "source": [
        "# Part 1 - Temperature Designating Script\n",
        "\n",
        "# assign my parameter to an input function\n",
        "temp = int(input('Enter value for temperature: '))\n",
        "\n",
        "# define my function with the parameter of temp\n",
        "def feeltemp(temp): \n",
        "# create conditional statements that print if the parameter falls within a certain range\n",
        "  if temp >= 100:\n",
        "    print(\"It is hot.\")\n",
        "  elif temp >= 70 and temp < 100:\n",
        "    print(\"It is warm.\")\n",
        "  elif temp >= 32 and temp < 70:\n",
        "    print(\"It is cool.\")\n",
        "  else:\n",
        "    print(\"It is cold.\")\n",
        "# call my function to execute\n",
        "(feeltemp(temp))\n"
      ],
      "execution_count": 3,
      "outputs": [
        {
          "output_type": "stream",
          "text": [
            "Enter value for temperature: 10000\n",
            "It is hot.\n"
          ],
          "name": "stdout"
        }
      ]
    },
    {
      "cell_type": "markdown",
      "metadata": {
        "id": "hVvULfYH8Ui1",
        "colab_type": "text"
      },
      "source": [
        ""
      ]
    },
    {
      "cell_type": "code",
      "metadata": {
        "id": "VVwVi_Cb8UCB",
        "colab_type": "code",
        "colab": {
          "base_uri": "https://localhost:8080/",
          "height": 119
        },
        "outputId": "d8f9c111-98d0-4b6b-f2de-997c458d3dda"
      },
      "source": [
        "# Part 2 - Chatbot Script \n",
        "\n",
        "# Create function to great user\n",
        "def sayhello(username):\n",
        "  (print(\"It is nice to meet you\", username))\n",
        "\n",
        "# Create function to ask questions about citizenship, voter registration, and voter preference for candidate\n",
        "# Embed If/elif/else statements such that each input leads to the next question\n",
        "def questions():\n",
        "  cit = input('Are you a U.S. citizen? ') #asks question in input\n",
        "  if cit == 'Yes': # Sequence is on same tab level i.e if answer is no here, goes to else at bottom (on same tab level)\n",
        "    register = input('Great are you registered to vote? ')\n",
        "    if register == 'Yes': # same here, if no here, goes to else: okay, please reconsider (on same tab level)\n",
        "      candname = input('Are you voting for Biden, Trump, or Neither?')\n",
        "      if candname == 'Biden':\n",
        "        print(\"Great choice, please consider donating here: https://joebiden.com/contribute-by-mail/\")\n",
        "      elif candname == 'Trump':\n",
        "        print(\"Please reconsider. He is a terrible person. See details here: https://www.mcsweeneys.net/articles/the-complete-listing-so-far-atrocities-1-889\") \n",
        "      else:\n",
        "        print(\"Please consider supporting Joe Biden. Check out what he stands for here: https://joebiden.com/joes-vision/\")\n",
        "    else:\n",
        "      print(\"Okay, please consider registering at vote.org\")    \n",
        "  else:\n",
        "    print(\"Okay, thank you for your time no further questions.\")\n",
        "\n",
        "# Create username variable, equals an input, kicks of the chatbot\n",
        "username = input('Hi! What is your name? ')\n",
        "# Call functions\n",
        "sayhello(username)\n",
        "questions()\n",
        "\n",
        "\n"
      ],
      "execution_count": 4,
      "outputs": [
        {
          "output_type": "stream",
          "text": [
            "Hi! What is your name? Claire\n",
            "It is nice to meet you Claire\n",
            "Are you a U.S. citizen? Yes\n",
            "Great are you registered to vote? Yes\n",
            "Are you voting for Biden, Trump, or Neither?Trump\n",
            "Please reconsider. He is a terrible person. See details here: https://www.mcsweeneys.net/articles/the-complete-listing-so-far-atrocities-1-889\n"
          ],
          "name": "stdout"
        }
      ]
    }
  ]
}